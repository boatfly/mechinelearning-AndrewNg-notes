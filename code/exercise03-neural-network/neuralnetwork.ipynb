{
 "cells": [
  {
   "cell_type": "markdown",
   "metadata": {
    "collapsed": true
   },
   "source": [
    "## 机器学习 - 神经网络"
   ]
  },
  {
   "cell_type": "code",
   "execution_count": 97,
   "metadata": {},
   "outputs": [],
   "source": [
    "import numpy as np\n",
    "import pandas as pd\n",
    "import matplotlib.pyplot as plt\n",
    "import matplotlib\n",
    "import scipy.io as sio\n",
    "import scipy.optimize as opt"
   ]
  },
  {
   "cell_type": "code",
   "execution_count": 2,
   "metadata": {},
   "outputs": [],
   "source": [
    "def load_data(path,transpose=True):\n",
    "    data = sio.loadmat(path)\n",
    "    y = data.get('y')  # (5000,1)\n",
    "    y = y.reshape(y.shape[0])  # make it back to column vector\n",
    "\n",
    "    X = data.get('X')  # (5000,400)\n",
    "\n",
    "    if transpose:\n",
    "        # for this dataset, you need a transpose to get the orientation right\n",
    "        X = np.array([im.reshape((20, 20)).T for im in X])\n",
    "\n",
    "        # and I flat the image again to preserve the vector presentation\n",
    "        X = np.array([im.reshape(400) for im in X])\n",
    "\n",
    "    return X, y"
   ]
  },
  {
   "cell_type": "code",
   "execution_count": 4,
   "metadata": {},
   "outputs": [],
   "source": [
    "data = sio.loadmat('ex3data1.mat')"
   ]
  },
  {
   "cell_type": "code",
   "execution_count": 40,
   "metadata": {},
   "outputs": [
    {
     "data": {
      "text/plain": [
       "(5000, 1)"
      ]
     },
     "execution_count": 40,
     "metadata": {},
     "output_type": "execute_result"
    }
   ],
   "source": [
    "data.get('y').shape"
   ]
  },
  {
   "cell_type": "code",
   "execution_count": 56,
   "metadata": {},
   "outputs": [
    {
     "data": {
      "text/plain": [
       "array([[ 1.,  2.,  3.,  4.],\n",
       "       [ 5.,  6.,  7.,  8.],\n",
       "       [ 9., 10., 11., 12.],\n",
       "       [13., 14., 15., 16.]])"
      ]
     },
     "execution_count": 56,
     "metadata": {},
     "output_type": "execute_result"
    }
   ],
   "source": [
    "t = np.linspace(1,16,16) # 等差数列：开始值，结束值，个数\n",
    "tt = t.reshape(4,4)\n",
    "tt"
   ]
  },
  {
   "cell_type": "code",
   "execution_count": 59,
   "metadata": {},
   "outputs": [
    {
     "data": {
      "text/plain": [
       "array([[ 1.,  5.,  9., 13.],\n",
       "       [ 2.,  6., 10., 14.],\n",
       "       [ 3.,  7., 11., 15.],\n",
       "       [ 4.,  8., 12., 16.]])"
      ]
     },
     "execution_count": 59,
     "metadata": {},
     "output_type": "execute_result"
    }
   ],
   "source": [
    "ttt = tt.T\n",
    "ttt"
   ]
  },
  {
   "cell_type": "code",
   "execution_count": 60,
   "metadata": {},
   "outputs": [
    {
     "data": {
      "text/plain": [
       "array([ 1.,  5.,  9., 13.,  2.,  6., 10., 14.,  3.,  7., 11., 15.,  4.,\n",
       "        8., 12., 16.])"
      ]
     },
     "execution_count": 60,
     "metadata": {},
     "output_type": "execute_result"
    }
   ],
   "source": [
    "tttt = ttt.reshape(16)\n",
    "tttt"
   ]
  },
  {
   "cell_type": "code",
   "execution_count": 6,
   "metadata": {},
   "outputs": [
    {
     "data": {
      "text/plain": [
       "array([[10],\n",
       "       [10],\n",
       "       [10],\n",
       "       ...,\n",
       "       [ 9],\n",
       "       [ 9],\n",
       "       [ 9]], dtype=uint8)"
      ]
     },
     "execution_count": 6,
     "metadata": {},
     "output_type": "execute_result"
    }
   ],
   "source": [
    "data['y']"
   ]
  },
  {
   "cell_type": "code",
   "execution_count": 41,
   "metadata": {},
   "outputs": [
    {
     "data": {
      "text/plain": [
       "array([ 0.00000000e+00,  0.00000000e+00,  0.00000000e+00,  0.00000000e+00,\n",
       "        0.00000000e+00,  0.00000000e+00,  0.00000000e+00,  0.00000000e+00,\n",
       "        0.00000000e+00,  0.00000000e+00,  0.00000000e+00,  0.00000000e+00,\n",
       "        0.00000000e+00,  0.00000000e+00,  0.00000000e+00,  0.00000000e+00,\n",
       "        0.00000000e+00,  0.00000000e+00,  0.00000000e+00,  0.00000000e+00,\n",
       "        0.00000000e+00,  0.00000000e+00,  0.00000000e+00,  0.00000000e+00,\n",
       "        0.00000000e+00,  0.00000000e+00,  0.00000000e+00,  0.00000000e+00,\n",
       "        0.00000000e+00,  0.00000000e+00,  0.00000000e+00,  0.00000000e+00,\n",
       "        0.00000000e+00,  0.00000000e+00,  0.00000000e+00,  0.00000000e+00,\n",
       "        0.00000000e+00,  0.00000000e+00,  0.00000000e+00,  0.00000000e+00,\n",
       "        0.00000000e+00,  0.00000000e+00,  0.00000000e+00,  0.00000000e+00,\n",
       "        0.00000000e+00,  0.00000000e+00,  0.00000000e+00,  0.00000000e+00,\n",
       "        0.00000000e+00,  3.22856793e-04, -9.15576210e-04, -2.53532265e-02,\n",
       "       -3.85931128e-02, -3.84044678e-02, -1.93746688e-02,  3.90933920e-04,\n",
       "        8.19371408e-05,  0.00000000e+00,  0.00000000e+00,  0.00000000e+00,\n",
       "        0.00000000e+00,  0.00000000e+00,  0.00000000e+00,  0.00000000e+00,\n",
       "        0.00000000e+00,  0.00000000e+00,  0.00000000e+00,  1.17402470e-04,\n",
       "       -8.24754902e-04, -7.05284926e-03, -1.09662139e-02,  1.96883340e-01,\n",
       "        3.20908867e-01,  3.18912394e-01,  1.41719652e-01, -1.56820193e-02,\n",
       "       -2.65063317e-04,  3.30194448e-05,  0.00000000e+00,  0.00000000e+00,\n",
       "        0.00000000e+00,  0.00000000e+00,  0.00000000e+00,  0.00000000e+00,\n",
       "        0.00000000e+00,  0.00000000e+00,  2.45098039e-04, -1.96159961e-03,\n",
       "       -1.20715891e-02,  5.62372345e-03,  2.90347478e-01,  8.64413041e-01,\n",
       "        9.88390846e-01,  9.85526535e-01,  7.99468444e-01,  1.56723175e-01,\n",
       "       -1.74198325e-02,  5.39317598e-04,  0.00000000e+00,  0.00000000e+00,\n",
       "        0.00000000e+00,  0.00000000e+00,  0.00000000e+00,  0.00000000e+00,\n",
       "        0.00000000e+00,  2.38522588e-17, -1.08847358e-03, -2.90722793e-02,\n",
       "        2.35753608e-01,  7.92536322e-01,  1.00266258e+00,  1.05862132e+00,\n",
       "        8.76247129e-01,  9.29120694e-01,  1.06343234e+00,  7.31781386e-01,\n",
       "        3.59943151e-02, -1.31336370e-02,  4.04241558e-04,  0.00000000e+00,\n",
       "        0.00000000e+00,  0.00000000e+00,  0.00000000e+00,  0.00000000e+00,\n",
       "        2.45098039e-04, -1.08847358e-03, -3.02730120e-02,  2.22924174e-01,\n",
       "        8.56914097e-01,  1.00723112e+00,  4.52620660e-01,  4.22602805e-01,\n",
       "        1.82431498e-01,  2.29894182e-01,  7.63649901e-01,  9.83978673e-01,\n",
       "        4.54453908e-01, -1.25295544e-03, -4.18113426e-03,  0.00000000e+00,\n",
       "        0.00000000e+00,  0.00000000e+00,  0.00000000e+00,  1.95670784e-05,\n",
       "       -1.18788472e-03, -1.45840807e-02,  2.27772733e-01,  8.49794333e-01,\n",
       "        1.03787200e+00,  5.89619682e-01, -4.63046078e-02, -5.30524642e-02,\n",
       "       -2.38986844e-02, -6.55092026e-02,  4.97592825e-01,  1.01926148e+00,\n",
       "        9.17334223e-01,  1.06986866e-01, -1.69564361e-02,  0.00000000e+00,\n",
       "        0.00000000e+00,  0.00000000e+00,  0.00000000e+00, -9.16564542e-05,\n",
       "       -1.67706121e-02,  1.15367579e-01,  8.06616524e-01,  1.02730740e+00,\n",
       "        7.50930573e-01,  1.01062687e-01, -2.01214937e-02,  1.34701797e-04,\n",
       "        0.00000000e+00, -1.90195057e-02,  2.72716469e-01,  9.73519029e-01,\n",
       "        9.89230358e-01,  1.34740430e-01, -1.98124319e-02,  0.00000000e+00,\n",
       "        0.00000000e+00,  0.00000000e+00,  0.00000000e+00, -8.66166258e-04,\n",
       "       -2.72397706e-02,  4.07026008e-01,  1.01467490e+00,  8.12184787e-01,\n",
       "        9.60610532e-02,  4.99268110e-04,  8.88480392e-06, -4.68750000e-05,\n",
       "        8.80518528e-05, -2.97574551e-02,  4.51886268e-01,  1.02012866e+00,\n",
       "        7.17333725e-01,  4.56954975e-02, -1.02456087e-02,  0.00000000e+00,\n",
       "        0.00000000e+00,  3.31857514e-18,  9.78353920e-04, -1.79511846e-02,\n",
       "        8.23780467e-02,  8.85095537e-01,  1.01910405e+00,  8.77518531e-01,\n",
       "        5.05646276e-01,  2.22961023e-01, -8.77200776e-03, -7.87837010e-04,\n",
       "        9.95475113e-04, -4.42252349e-02,  5.57143689e-01,  1.02120044e+00,\n",
       "        4.57385961e-01, -1.32357527e-02, -3.22933687e-03,  0.00000000e+00,\n",
       "        0.00000000e+00,  4.30623638e-04, -1.41265134e-02,  5.47903561e-02,\n",
       "        5.13331563e-01,  9.86177730e-01,  1.00378859e+00,  1.02784066e+00,\n",
       "        8.81669237e-01,  1.75647535e-01, -2.02476171e-02,  1.37016612e-04,\n",
       "       -2.60476200e-02,  1.41610890e-01,  8.07201287e-01,  7.40654480e-01,\n",
       "        9.93945568e-02, -1.73559985e-02,  2.28758170e-04,  0.00000000e+00,\n",
       "        0.00000000e+00, -6.68558830e-03,  2.27848153e-02,  5.18736667e-01,\n",
       "        9.43501199e-01,  9.50583768e-01,  9.06830915e-01,  8.26161357e-01,\n",
       "        2.59302617e-01, -8.14776881e-03, -2.08012311e-03, -1.69574892e-02,\n",
       "       -1.98703986e-02,  5.62824199e-01,  9.66719253e-01,  2.69194081e-01,\n",
       "       -2.92052403e-02,  1.07273151e-03,  0.00000000e+00,  0.00000000e+00,\n",
       "        0.00000000e+00, -2.18887868e-02,  1.52704282e-01,  1.05740831e+00,\n",
       "        1.00747316e+00,  6.90700963e-01,  3.15753472e-01,  2.88350828e-01,\n",
       "        5.17292688e-02, -3.85486792e-02, -3.64513889e-02,  5.55434368e-02,\n",
       "        5.03607069e-01,  9.99676777e-01,  4.99540543e-01, -2.16885042e-02,\n",
       "       -2.08379289e-03,  6.11471200e-05,  0.00000000e+00,  0.00000000e+00,\n",
       "        0.00000000e+00, -9.33091639e-03,  4.37851596e-02,  6.25597750e-01,\n",
       "        9.98682683e-01,  9.47196708e-01,  8.44518263e-01,  8.65640839e-01,\n",
       "        7.60129596e-01,  5.74255498e-01,  5.76234835e-01,  7.58724282e-01,\n",
       "        1.03109059e+00,  6.83323734e-01,  8.16175279e-02, -1.06374251e-02,\n",
       "       -1.62173203e-04,  0.00000000e+00,  0.00000000e+00,  0.00000000e+00,\n",
       "        0.00000000e+00,  3.84497549e-04, -1.98596164e-02,  1.09942981e-01,\n",
       "        6.48968835e-01,  7.75507115e-01,  7.76910846e-01,  7.73937959e-01,\n",
       "        7.70750272e-01,  7.68581240e-01,  7.71992017e-01,  7.83497838e-01,\n",
       "        6.10717494e-01,  6.84297045e-02, -1.89090584e-02,  3.23529412e-04,\n",
       "        3.58455882e-05,  0.00000000e+00,  0.00000000e+00,  0.00000000e+00,\n",
       "        0.00000000e+00,  3.21691176e-05,  3.98118707e-04, -8.11094090e-03,\n",
       "        5.67306645e-03,  1.52478554e-02,  1.39710989e-02,  1.40424531e-02,\n",
       "        1.47417279e-02,  1.56728452e-02,  1.54803411e-02,  1.53017940e-02,\n",
       "        2.51445450e-03, -8.21090346e-03,  3.38235294e-04,  3.58455882e-05,\n",
       "        0.00000000e+00,  0.00000000e+00,  0.00000000e+00,  0.00000000e+00,\n",
       "        0.00000000e+00,  0.00000000e+00,  3.90527968e-05, -1.03134809e-04,\n",
       "       -4.63169051e-03, -6.26391097e-03, -6.06579430e-03, -6.06579430e-03,\n",
       "       -6.06579430e-03, -6.06579430e-03, -6.06579430e-03, -6.19216502e-03,\n",
       "       -4.07939006e-03,  1.26370715e-04,  0.00000000e+00,  0.00000000e+00,\n",
       "        0.00000000e+00,  0.00000000e+00,  0.00000000e+00,  0.00000000e+00,\n",
       "        0.00000000e+00,  0.00000000e+00,  0.00000000e+00,  0.00000000e+00,\n",
       "        0.00000000e+00,  0.00000000e+00,  0.00000000e+00,  0.00000000e+00,\n",
       "        0.00000000e+00,  0.00000000e+00,  0.00000000e+00,  0.00000000e+00,\n",
       "        0.00000000e+00,  0.00000000e+00,  0.00000000e+00,  0.00000000e+00,\n",
       "        0.00000000e+00,  0.00000000e+00,  0.00000000e+00,  0.00000000e+00,\n",
       "        0.00000000e+00,  0.00000000e+00,  0.00000000e+00,  0.00000000e+00,\n",
       "        0.00000000e+00,  0.00000000e+00,  0.00000000e+00,  0.00000000e+00,\n",
       "        0.00000000e+00,  0.00000000e+00,  0.00000000e+00,  0.00000000e+00,\n",
       "        0.00000000e+00,  0.00000000e+00,  0.00000000e+00,  0.00000000e+00,\n",
       "        0.00000000e+00,  0.00000000e+00,  0.00000000e+00,  0.00000000e+00])"
      ]
     },
     "execution_count": 41,
     "metadata": {},
     "output_type": "execute_result"
    }
   ],
   "source": [
    "data['X'][1]"
   ]
  },
  {
   "cell_type": "code",
   "execution_count": 17,
   "metadata": {},
   "outputs": [
    {
     "data": {
      "text/plain": [
       "{'__header__': b'MATLAB 5.0 MAT-file, Platform: GLNXA64, Created on: Sun Oct 16 13:09:09 2011',\n",
       " '__version__': '1.0',\n",
       " '__globals__': [],\n",
       " 'X': array([[0., 0., 0., ..., 0., 0., 0.],\n",
       "        [0., 0., 0., ..., 0., 0., 0.],\n",
       "        [0., 0., 0., ..., 0., 0., 0.],\n",
       "        ...,\n",
       "        [0., 0., 0., ..., 0., 0., 0.],\n",
       "        [0., 0., 0., ..., 0., 0., 0.],\n",
       "        [0., 0., 0., ..., 0., 0., 0.]]),\n",
       " 'y': array([[10],\n",
       "        [10],\n",
       "        [10],\n",
       "        ...,\n",
       "        [ 9],\n",
       "        [ 9],\n",
       "        [ 9]], dtype=uint8)}"
      ]
     },
     "execution_count": 17,
     "metadata": {},
     "output_type": "execute_result"
    }
   ],
   "source": [
    "data"
   ]
  },
  {
   "cell_type": "code",
   "execution_count": 30,
   "metadata": {},
   "outputs": [
    {
     "name": "stdout",
     "output_type": "stream",
     "text": [
      "__header__0:0b'MATLAB 5.0 MAT-file, Platform: GLNXA64, Created on: Sun Oct 16 13:09:09 2011'\n",
      "__version__0:01.0\n",
      "__globals__0:0[]\n",
      "X0:0[[0. 0. 0. ... 0. 0. 0.]\n",
      " [0. 0. 0. ... 0. 0. 0.]\n",
      " [0. 0. 0. ... 0. 0. 0.]\n",
      " ...\n",
      " [0. 0. 0. ... 0. 0. 0.]\n",
      " [0. 0. 0. ... 0. 0. 0.]\n",
      " [0. 0. 0. ... 0. 0. 0.]]\n",
      "y0:0[[10]\n",
      " [10]\n",
      " [10]\n",
      " ...\n",
      " [ 9]\n",
      " [ 9]\n",
      " [ 9]]\n"
     ]
    }
   ],
   "source": [
    "for k,v in data.items():\n",
    "    print('{}:{}'.format(k,v))"
   ]
  },
  {
   "cell_type": "code",
   "execution_count": 73,
   "metadata": {},
   "outputs": [],
   "source": [
    "X,y = load_data('ex3data1.mat')"
   ]
  },
  {
   "cell_type": "code",
   "execution_count": 61,
   "metadata": {},
   "outputs": [
    {
     "data": {
      "text/plain": [
       "array([ 0.00000000e+00,  0.00000000e+00,  0.00000000e+00,  0.00000000e+00,\n",
       "        0.00000000e+00,  0.00000000e+00,  0.00000000e+00,  0.00000000e+00,\n",
       "        0.00000000e+00,  0.00000000e+00,  0.00000000e+00,  0.00000000e+00,\n",
       "        0.00000000e+00,  0.00000000e+00,  0.00000000e+00,  0.00000000e+00,\n",
       "        0.00000000e+00,  0.00000000e+00,  0.00000000e+00,  0.00000000e+00,\n",
       "        0.00000000e+00,  0.00000000e+00,  0.00000000e+00,  0.00000000e+00,\n",
       "        0.00000000e+00,  0.00000000e+00,  0.00000000e+00,  0.00000000e+00,\n",
       "        0.00000000e+00,  0.00000000e+00,  3.31857514e-18,  4.30623638e-04,\n",
       "       -6.68558830e-03, -2.18887868e-02, -9.33091639e-03,  3.84497549e-04,\n",
       "        3.21691176e-05,  0.00000000e+00,  0.00000000e+00,  0.00000000e+00,\n",
       "        0.00000000e+00,  0.00000000e+00,  0.00000000e+00,  0.00000000e+00,\n",
       "        0.00000000e+00,  0.00000000e+00,  0.00000000e+00,  0.00000000e+00,\n",
       "        0.00000000e+00,  0.00000000e+00,  9.78353920e-04, -1.41265134e-02,\n",
       "        2.27848153e-02,  1.52704282e-01,  4.37851596e-02, -1.98596164e-02,\n",
       "        3.98118707e-04,  3.90527968e-05,  0.00000000e+00,  0.00000000e+00,\n",
       "        0.00000000e+00,  0.00000000e+00,  0.00000000e+00,  0.00000000e+00,\n",
       "        0.00000000e+00,  0.00000000e+00,  0.00000000e+00,  1.95670784e-05,\n",
       "       -9.16564542e-05, -8.66166258e-04, -1.79511846e-02,  5.47903561e-02,\n",
       "        5.18736667e-01,  1.05740831e+00,  6.25597750e-01,  1.09942981e-01,\n",
       "       -8.11094090e-03, -1.03134809e-04,  0.00000000e+00,  0.00000000e+00,\n",
       "        0.00000000e+00,  0.00000000e+00,  0.00000000e+00,  0.00000000e+00,\n",
       "        0.00000000e+00,  0.00000000e+00,  2.45098039e-04, -1.18788472e-03,\n",
       "       -1.67706121e-02, -2.72397706e-02,  8.23780467e-02,  5.13331563e-01,\n",
       "        9.43501199e-01,  1.00747316e+00,  9.98682683e-01,  6.48968835e-01,\n",
       "        5.67306645e-03, -4.63169051e-03,  0.00000000e+00,  0.00000000e+00,\n",
       "        0.00000000e+00,  0.00000000e+00,  0.00000000e+00,  0.00000000e+00,\n",
       "        0.00000000e+00,  2.38522588e-17, -1.08847358e-03, -1.45840807e-02,\n",
       "        1.15367579e-01,  4.07026008e-01,  8.85095537e-01,  9.86177730e-01,\n",
       "        9.50583768e-01,  6.90700963e-01,  9.47196708e-01,  7.75507115e-01,\n",
       "        1.52478554e-02, -6.26391097e-03,  0.00000000e+00,  0.00000000e+00,\n",
       "        0.00000000e+00,  0.00000000e+00,  0.00000000e+00,  0.00000000e+00,\n",
       "        2.45098039e-04, -1.08847358e-03, -3.02730120e-02,  2.27772733e-01,\n",
       "        8.06616524e-01,  1.01467490e+00,  1.01910405e+00,  1.00378859e+00,\n",
       "        9.06830915e-01,  3.15753472e-01,  8.44518263e-01,  7.76910846e-01,\n",
       "        1.39710989e-02, -6.06579430e-03,  0.00000000e+00,  0.00000000e+00,\n",
       "        0.00000000e+00,  0.00000000e+00,  0.00000000e+00,  1.17402470e-04,\n",
       "       -1.96159961e-03, -2.90722793e-02,  2.22924174e-01,  8.49794333e-01,\n",
       "        1.02730740e+00,  8.12184787e-01,  8.77518531e-01,  1.02784066e+00,\n",
       "        8.26161357e-01,  2.88350828e-01,  8.65640839e-01,  7.73937959e-01,\n",
       "        1.40424531e-02, -6.06579430e-03,  0.00000000e+00,  0.00000000e+00,\n",
       "        0.00000000e+00,  0.00000000e+00,  0.00000000e+00, -8.24754902e-04,\n",
       "       -1.20715891e-02,  2.35753608e-01,  8.56914097e-01,  1.03787200e+00,\n",
       "        7.50930573e-01,  9.60610532e-02,  5.05646276e-01,  8.81669237e-01,\n",
       "        2.59302617e-01,  5.17292688e-02,  7.60129596e-01,  7.70750272e-01,\n",
       "        1.47417279e-02, -6.06579430e-03,  0.00000000e+00,  0.00000000e+00,\n",
       "        0.00000000e+00,  0.00000000e+00,  3.22856793e-04, -7.05284926e-03,\n",
       "        5.62372345e-03,  7.92536322e-01,  1.00723112e+00,  5.89619682e-01,\n",
       "        1.01062687e-01,  4.99268110e-04,  2.22961023e-01,  1.75647535e-01,\n",
       "       -8.14776881e-03, -3.85486792e-02,  5.74255498e-01,  7.68581240e-01,\n",
       "        1.56728452e-02, -6.06579430e-03,  0.00000000e+00,  0.00000000e+00,\n",
       "        0.00000000e+00,  0.00000000e+00, -9.15576210e-04, -1.09662139e-02,\n",
       "        2.90347478e-01,  1.00266258e+00,  4.52620660e-01, -4.63046078e-02,\n",
       "       -2.01214937e-02,  8.88480392e-06, -8.77200776e-03, -2.02476171e-02,\n",
       "       -2.08012311e-03, -3.64513889e-02,  5.76234835e-01,  7.71992017e-01,\n",
       "        1.54803411e-02, -6.06579430e-03,  0.00000000e+00,  0.00000000e+00,\n",
       "        0.00000000e+00,  0.00000000e+00, -2.53532265e-02,  1.96883340e-01,\n",
       "        8.64413041e-01,  1.05862132e+00,  4.22602805e-01, -5.30524642e-02,\n",
       "        1.34701797e-04, -4.68750000e-05, -7.87837010e-04,  1.37016612e-04,\n",
       "       -1.69574892e-02,  5.55434368e-02,  7.58724282e-01,  7.83497838e-01,\n",
       "        1.53017940e-02, -6.19216502e-03,  0.00000000e+00,  0.00000000e+00,\n",
       "        0.00000000e+00,  0.00000000e+00, -3.85931128e-02,  3.20908867e-01,\n",
       "        9.88390846e-01,  8.76247129e-01,  1.82431498e-01, -2.38986844e-02,\n",
       "        0.00000000e+00,  8.80518528e-05,  9.95475113e-04, -2.60476200e-02,\n",
       "       -1.98703986e-02,  5.03607069e-01,  1.03109059e+00,  6.10717494e-01,\n",
       "        2.51445450e-03, -4.07939006e-03,  0.00000000e+00,  0.00000000e+00,\n",
       "        0.00000000e+00,  0.00000000e+00, -3.84044678e-02,  3.18912394e-01,\n",
       "        9.85526535e-01,  9.29120694e-01,  2.29894182e-01, -6.55092026e-02,\n",
       "       -1.90195057e-02, -2.97574551e-02, -4.42252349e-02,  1.41610890e-01,\n",
       "        5.62824199e-01,  9.99676777e-01,  6.83323734e-01,  6.84297045e-02,\n",
       "       -8.21090346e-03,  1.26370715e-04,  0.00000000e+00,  0.00000000e+00,\n",
       "        0.00000000e+00,  0.00000000e+00, -1.93746688e-02,  1.41719652e-01,\n",
       "        7.99468444e-01,  1.06343234e+00,  7.63649901e-01,  4.97592825e-01,\n",
       "        2.72716469e-01,  4.51886268e-01,  5.57143689e-01,  8.07201287e-01,\n",
       "        9.66719253e-01,  4.99540543e-01,  8.16175279e-02, -1.89090584e-02,\n",
       "        3.38235294e-04,  0.00000000e+00,  0.00000000e+00,  0.00000000e+00,\n",
       "        0.00000000e+00,  0.00000000e+00,  3.90933920e-04, -1.56820193e-02,\n",
       "        1.56723175e-01,  7.31781386e-01,  9.83978673e-01,  1.01926148e+00,\n",
       "        9.73519029e-01,  1.02012866e+00,  1.02120044e+00,  7.40654480e-01,\n",
       "        2.69194081e-01, -2.16885042e-02, -1.06374251e-02,  3.23529412e-04,\n",
       "        3.58455882e-05,  0.00000000e+00,  0.00000000e+00,  0.00000000e+00,\n",
       "        0.00000000e+00,  0.00000000e+00,  8.19371408e-05, -2.65063317e-04,\n",
       "       -1.74198325e-02,  3.59943151e-02,  4.54453908e-01,  9.17334223e-01,\n",
       "        9.89230358e-01,  7.17333725e-01,  4.57385961e-01,  9.93945568e-02,\n",
       "       -2.92052403e-02, -2.08379289e-03, -1.62173203e-04,  3.58455882e-05,\n",
       "        0.00000000e+00,  0.00000000e+00,  0.00000000e+00,  0.00000000e+00,\n",
       "        0.00000000e+00,  0.00000000e+00,  0.00000000e+00,  3.30194448e-05,\n",
       "        5.39317598e-04, -1.31336370e-02, -1.25295544e-03,  1.06986866e-01,\n",
       "        1.34740430e-01,  4.56954975e-02, -1.32357527e-02, -1.73559985e-02,\n",
       "        1.07273151e-03,  6.11471200e-05,  0.00000000e+00,  0.00000000e+00,\n",
       "        0.00000000e+00,  0.00000000e+00,  0.00000000e+00,  0.00000000e+00,\n",
       "        0.00000000e+00,  0.00000000e+00,  0.00000000e+00,  0.00000000e+00,\n",
       "        0.00000000e+00,  4.04241558e-04, -4.18113426e-03, -1.69564361e-02,\n",
       "       -1.98124319e-02, -1.02456087e-02, -3.22933687e-03,  2.28758170e-04,\n",
       "        0.00000000e+00,  0.00000000e+00,  0.00000000e+00,  0.00000000e+00,\n",
       "        0.00000000e+00,  0.00000000e+00,  0.00000000e+00,  0.00000000e+00,\n",
       "        0.00000000e+00,  0.00000000e+00,  0.00000000e+00,  0.00000000e+00,\n",
       "        0.00000000e+00,  0.00000000e+00,  0.00000000e+00,  0.00000000e+00,\n",
       "        0.00000000e+00,  0.00000000e+00,  0.00000000e+00,  0.00000000e+00,\n",
       "        0.00000000e+00,  0.00000000e+00,  0.00000000e+00,  0.00000000e+00,\n",
       "        0.00000000e+00,  0.00000000e+00,  0.00000000e+00,  0.00000000e+00])"
      ]
     },
     "execution_count": 61,
     "metadata": {},
     "output_type": "execute_result"
    }
   ],
   "source": [
    "X[1]"
   ]
  },
  {
   "cell_type": "code",
   "execution_count": 65,
   "metadata": {},
   "outputs": [],
   "source": [
    "def plot_an_image(image):\n",
    "    fig,ax = plt.subplots(figsize=(1,1))\n",
    "    ax.matshow(image.reshape((20, 20)), cmap=matplotlib.cm.binary)\n",
    "    plt.xticks(np.array([]))  # just get rid of ticks\n",
    "    plt.yticks(np.array([]))"
   ]
  },
  {
   "cell_type": "markdown",
   "metadata": {},
   "source": [
    "`matshow`:plot a matrix or an array as an image"
   ]
  },
  {
   "cell_type": "code",
   "execution_count": 75,
   "metadata": {},
   "outputs": [
    {
     "data": {
      "image/png": "[encoded data removed]",
      "text/plain": [
       "<matplotlib.figure.Figure at 0xb1aaa3da0>"
      ]
     },
     "metadata": {},
     "output_type": "display_data"
    },
    {
     "name": "stdout",
     "output_type": "stream",
     "text": [
      "this should be 9\n"
     ]
    }
   ],
   "source": [
    "pick_one = np.random.randint(0,5000)\n",
    "plot_an_image(X[pick_one])\n",
    "plt.show()\n",
    "print('this should be {}'.format(y[pick_one]))"
   ]
  },
  {
   "cell_type": "code",
   "execution_count": 76,
   "metadata": {},
   "outputs": [],
   "source": [
    "def plot_100_image(X):\n",
    "    \"\"\" sample 100 image and show them\n",
    "    assume the image is square\n",
    "\n",
    "    X : (5000, 400)\n",
    "    \"\"\"\n",
    "    size = int(np.sqrt(X.shape[1]))\n",
    "\n",
    "    # sample 100 image, reshape, reorg it\n",
    "    sample_idx = np.random.choice(np.arange(X.shape[0]), 100)  # 100*400\n",
    "    sample_images = X[sample_idx, :]\n",
    "\n",
    "    fig, ax_array = plt.subplots(nrows=10, ncols=10, sharey=True, sharex=True, figsize=(8, 8))\n",
    "\n",
    "    for r in range(10):\n",
    "        for c in range(10):\n",
    "            ax_array[r, c].matshow(sample_images[10 * r + c].reshape((size, size)),\n",
    "                                   cmap=matplotlib.cm.binary)\n",
    "            plt.xticks(np.array([]))\n",
    "            plt.yticks(np.array([]))  \n",
    "            #绘图函数，画100张图片"
   ]
  },
  {
   "cell_type": "code",
   "execution_count": 77,
   "metadata": {},
   "outputs": [
    {
     "data": {
      "image/png": "[encoded data removed]",
      "text/plain": [
       "<matplotlib.figure.Figure at 0xb1aa35630>"
      ]
     },
     "metadata": {},
     "output_type": "display_data"
    }
   ],
   "source": [
    "plot_100_image(X)\n",
    "plt.show()"
   ]
  },
  {
   "cell_type": "code",
   "execution_count": 78,
   "metadata": {},
   "outputs": [
    {
     "name": "stdout",
     "output_type": "stream",
     "text": [
      "(5000, 400)\n",
      "(5000,)\n"
     ]
    }
   ],
   "source": [
    "raw_X, raw_y = load_data('ex3data1.mat')\n",
    "print(raw_X.shape)\n",
    "print(raw_y.shape)"
   ]
  },
  {
   "cell_type": "markdown",
   "metadata": {},
   "source": [
    "## 准备数据"
   ]
  },
  {
   "cell_type": "code",
   "execution_count": 83,
   "metadata": {},
   "outputs": [
    {
     "data": {
      "text/plain": [
       "(5000, 401)"
      ]
     },
     "execution_count": 83,
     "metadata": {},
     "output_type": "execute_result"
    }
   ],
   "source": [
    "X = np.insert(raw_X,0,values = np.ones(raw_X.shape[0]),axis=1) ##插入了第一列（全部为1）\n",
    "X.shape"
   ]
  },
  {
   "cell_type": "code",
   "execution_count": 84,
   "metadata": {},
   "outputs": [
    {
     "data": {
      "text/plain": [
       "array([10, 10, 10, ...,  9,  9,  9], dtype=uint8)"
      ]
     },
     "execution_count": 84,
     "metadata": {},
     "output_type": "execute_result"
    }
   ],
   "source": [
    "raw_y"
   ]
  },
  {
   "cell_type": "code",
   "execution_count": 85,
   "metadata": {},
   "outputs": [
    {
     "data": {
      "text/plain": [
       "(5000,)"
      ]
     },
     "execution_count": 85,
     "metadata": {},
     "output_type": "execute_result"
    }
   ],
   "source": [
    "raw_y.shape"
   ]
  },
  {
   "cell_type": "code",
   "execution_count": 86,
   "metadata": {},
   "outputs": [
    {
     "data": {
      "text/plain": [
       "(5000, 400)"
      ]
     },
     "execution_count": 86,
     "metadata": {},
     "output_type": "execute_result"
    }
   ],
   "source": [
    "raw_X.shape"
   ]
  },
  {
   "cell_type": "code",
   "execution_count": 87,
   "metadata": {},
   "outputs": [],
   "source": [
    "y_matrix = []\n",
    "for k in range(1, 11):\n",
    "    y_matrix.append((raw_y == k).astype(int))\n",
    "y_matrix = [y_matrix[-1]] + y_matrix[:-1]\n",
    "y = np.array(y_matrix)"
   ]
  },
  {
   "cell_type": "code",
   "execution_count": 88,
   "metadata": {},
   "outputs": [
    {
     "data": {
      "text/plain": [
       "(10, 5000)"
      ]
     },
     "execution_count": 88,
     "metadata": {},
     "output_type": "execute_result"
    }
   ],
   "source": [
    "y.shape"
   ]
  },
  {
   "cell_type": "code",
   "execution_count": 89,
   "metadata": {},
   "outputs": [
    {
     "data": {
      "text/plain": [
       "array([[1, 1, 1, ..., 0, 0, 0],\n",
       "       [0, 0, 0, ..., 0, 0, 0],\n",
       "       [0, 0, 0, ..., 0, 0, 0],\n",
       "       ...,\n",
       "       [0, 0, 0, ..., 0, 0, 0],\n",
       "       [0, 0, 0, ..., 0, 0, 0],\n",
       "       [0, 0, 0, ..., 1, 1, 1]])"
      ]
     },
     "execution_count": 89,
     "metadata": {},
     "output_type": "execute_result"
    }
   ],
   "source": [
    "y"
   ]
  },
  {
   "cell_type": "markdown",
   "metadata": {},
   "source": [
    "## 训练一维模型"
   ]
  },
  {
   "cell_type": "code",
   "execution_count": 99,
   "metadata": {},
   "outputs": [],
   "source": [
    "def cost(theta, X, y):\n",
    "    ''' cost fn is -l(theta) for you to minimize'''\n",
    "    return np.mean(-y * np.log(sigmoid(X @ theta)) - (1 - y) * np.log(1 - sigmoid(X @ theta)))"
   ]
  },
  {
   "cell_type": "markdown",
   "metadata": {},
   "source": [
    "@ 在numpy中可以代替`matmul` 实现矩阵相乘"
   ]
  },
  {
   "cell_type": "code",
   "execution_count": 90,
   "metadata": {},
   "outputs": [],
   "source": [
    "def regularized_cost(theta, X, y, l=1): #代价函数的正则化\n",
    "    '''you don't penalize theta_0'''\n",
    "    theta_j1_to_n = theta[1:]\n",
    "    regularized_term = (l / (2 * len(X))) * np.power(theta_j1_to_n, 2).sum()\n",
    "\n",
    "    return cost(theta, X, y) + regularized_term"
   ]
  },
  {
   "cell_type": "code",
   "execution_count": 91,
   "metadata": {},
   "outputs": [],
   "source": [
    "def regularized_gradient(theta, X, y, l=1): #梯度函数的正则化\n",
    "    '''still, leave theta_0 alone'''\n",
    "    theta_j1_to_n = theta[1:]\n",
    "    regularized_theta = (l / len(X)) * theta_j1_to_n\n",
    "\n",
    "    # by doing this, no offset is on theta_0\n",
    "    regularized_term = np.concatenate([np.array([0]), regularized_theta])\n",
    "\n",
    "    return gradient(theta, X, y) + regularized_term"
   ]
  },
  {
   "cell_type": "code",
   "execution_count": 92,
   "metadata": {},
   "outputs": [],
   "source": [
    "def sigmoid(z):\n",
    "    return 1 / (1 + np.exp(-z))"
   ]
  },
  {
   "cell_type": "code",
   "execution_count": 93,
   "metadata": {},
   "outputs": [],
   "source": [
    "def gradient(theta, X, y):\n",
    "    '''just 1 batch gradient'''\n",
    "    return (1 / len(X)) * X.T @ (sigmoid(X @ theta) - y)"
   ]
  },
  {
   "cell_type": "code",
   "execution_count": 94,
   "metadata": {},
   "outputs": [],
   "source": [
    "def logistic_regression(X, y, l=1):\n",
    "    \"\"\"generalized logistic regression\n",
    "    args:\n",
    "        X: feature matrix, (m, n+1) # with incercept x0=1\n",
    "        y: target vector, (m, )\n",
    "        l: lambda constant for regularization\n",
    "\n",
    "    return: trained parameters\n",
    "    \"\"\"\n",
    "    # init theta\n",
    "    theta = np.zeros(X.shape[1])\n",
    "\n",
    "    # train it\n",
    "    res = opt.minimize(fun=regularized_cost,\n",
    "                       x0=theta,\n",
    "                       args=(X, y, l),\n",
    "                       method='TNC',\n",
    "                       jac=regularized_gradient,\n",
    "                       options={'disp': True})\n",
    "    # get trained parameters\n",
    "    final_theta = res.x\n",
    "\n",
    "    return final_theta"
   ]
  },
  {
   "cell_type": "markdown",
   "metadata": {},
   "source": [
    "> scipy.optimize 提供了许多数值优化算法：\n",
    "> 1. 最小二乘拟合 opt.leastsq()\n",
    "> 2. 局部最小值 opt.minimize(target_fun,init_val,method,jac,hess)\n",
    "> 3. 全局最小值 opt.basinhopping()"
   ]
  },
  {
   "cell_type": "code",
   "execution_count": 95,
   "metadata": {},
   "outputs": [],
   "source": [
    "def predict(x, theta):\n",
    "    prob = sigmoid(x @ theta)\n",
    "    return (prob >= 0.5).astype(int)"
   ]
  },
  {
   "cell_type": "code",
   "execution_count": 100,
   "metadata": {},
   "outputs": [],
   "source": [
    "t0 = logistic_regression(X, y[0])"
   ]
  },
  {
   "cell_type": "code",
   "execution_count": 102,
   "metadata": {},
   "outputs": [
    {
     "data": {
      "text/plain": [
       "(401,)"
      ]
     },
     "execution_count": 102,
     "metadata": {},
     "output_type": "execute_result"
    }
   ],
   "source": [
    "t0.shape"
   ]
  },
  {
   "cell_type": "code",
   "execution_count": 103,
   "metadata": {},
   "outputs": [
    {
     "name": "stdout",
     "output_type": "stream",
     "text": [
      "Accuracy=0.9974\n"
     ]
    }
   ],
   "source": [
    "y_pred = predict(X, t0)\n",
    "print('Accuracy={}'.format(np.mean(y[0] == y_pred)))"
   ]
  },
  {
   "cell_type": "code",
   "execution_count": null,
   "metadata": {},
   "outputs": [],
   "source": []
  }
 ],
 "metadata": {
  "kernelspec": {
   "display_name": "Python 3",
   "language": "python",
   "name": "python3"
  },
  "language_info": {
   "codemirror_mode": {
    "name": "ipython",
    "version": 3
   },
   "file_extension": ".py",
   "mimetype": "text/x-python",
   "name": "python",
   "nbconvert_exporter": "python",
   "pygments_lexer": "ipython3",
   "version": "3.6.8"
  }
 },
 "nbformat": 4,
 "nbformat_minor": 1
}
